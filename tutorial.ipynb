{
 "cells": [
  {
   "cell_type": "markdown",
   "metadata": {},
   "source": [
    "# Moving window dispersion functions\n",
    "\n",
    "\n",
    "This tool is a generic moving window - dispersion function / variogram calculation tool,\n",
    "implemented as a gernalized version of Mälicke et al. (2020).\n",
    "\n",
    "> Mälicke, M., Hassler, S. K., Blume, T., Weiler, M., & Zehe, E. (2020). Soil moisture: variable in space but redundant in time. Hydrology and Earth System Sciences, 24(5), 2633-2653."
   ]
  },
  {
   "cell_type": "code",
   "execution_count": 4,
   "metadata": {},
   "outputs": [
    {
     "name": "stderr",
     "output_type": "stream",
     "text": [
      "WARNING: The requested image's platform (linux/amd64) does not match the detected host platform (linux/arm64/v8) and no specific platform was requested\n"
     ]
    },
    {
     "name": "stdout",
     "output_type": "stream",
     "text": [
      "{'convert-input': convert-input: Convert input data  FROM ghcr.io/vforwater/tbr_moving_dispersion:main VERSION: 1.0,\n",
      " 'moving-window': moving-window: Moving window variograms  FROM ghcr.io/vforwater/tbr_moving_dispersion:main VERSION: 1.0}\n"
     ]
    }
   ],
   "source": [
    "from toolbox_runner import list_tools\n",
    "from pprint import pprint\n",
    "\n",
    "tools = list_tools(prefix=\"ghcr.io/vforwater/tbr_\", as_dict=True)\n",
    "pprint(tools)"
   ]
  },
  {
   "cell_type": "markdown",
   "metadata": {},
   "source": [
    "## Input Data\n",
    "\n",
    "Load some input data from the aforementioned publication"
   ]
  },
  {
   "cell_type": "code",
   "execution_count": 1,
   "metadata": {},
   "outputs": [],
   "source": [
    "import pandas as pd"
   ]
  },
  {
   "cell_type": "code",
   "execution_count": 8,
   "metadata": {},
   "outputs": [
    {
     "data": {
      "text/html": [
       "<div>\n",
       "<style scoped>\n",
       "    .dataframe tbody tr th:only-of-type {\n",
       "        vertical-align: middle;\n",
       "    }\n",
       "\n",
       "    .dataframe tbody tr th {\n",
       "        vertical-align: top;\n",
       "    }\n",
       "\n",
       "    .dataframe thead th {\n",
       "        text-align: right;\n",
       "    }\n",
       "</style>\n",
       "<table border=\"1\" class=\"dataframe\">\n",
       "  <thead>\n",
       "    <tr style=\"text-align: right;\">\n",
       "      <th></th>\n",
       "      <th>x</th>\n",
       "      <th>y</th>\n",
       "      <th>d</th>\n",
       "    </tr>\n",
       "  </thead>\n",
       "  <tbody>\n",
       "    <tr>\n",
       "      <th>0</th>\n",
       "      <td>53693.837759</td>\n",
       "      <td>98752.205367</td>\n",
       "      <td>pos_32</td>\n",
       "    </tr>\n",
       "    <tr>\n",
       "      <th>1</th>\n",
       "      <td>53693.837759</td>\n",
       "      <td>98752.205367</td>\n",
       "      <td>pos_33</td>\n",
       "    </tr>\n",
       "    <tr>\n",
       "      <th>2</th>\n",
       "      <td>53693.837759</td>\n",
       "      <td>98752.205367</td>\n",
       "      <td>pos_34</td>\n",
       "    </tr>\n",
       "    <tr>\n",
       "      <th>3</th>\n",
       "      <td>53691.342952</td>\n",
       "      <td>98749.025185</td>\n",
       "      <td>pos_35</td>\n",
       "    </tr>\n",
       "    <tr>\n",
       "      <th>4</th>\n",
       "      <td>53665.550000</td>\n",
       "      <td>98779.541089</td>\n",
       "      <td>pos_90</td>\n",
       "    </tr>\n",
       "  </tbody>\n",
       "</table>\n",
       "</div>"
      ],
      "text/plain": [
       "              x             y       d\n",
       "0  53693.837759  98752.205367  pos_32\n",
       "1  53693.837759  98752.205367  pos_33\n",
       "2  53693.837759  98752.205367  pos_34\n",
       "3  53691.342952  98749.025185  pos_35\n",
       "4  53665.550000  98779.541089  pos_90"
      ]
     },
     "execution_count": 8,
     "metadata": {},
     "output_type": "execute_result"
    }
   ],
   "source": [
    "positions = pd.read_csv('in/tutorial_pos.csv')\n",
    "positions.head()"
   ]
  },
  {
   "cell_type": "code",
   "execution_count": 3,
   "metadata": {},
   "outputs": [
    {
     "data": {
      "text/html": [
       "<div>\n",
       "<style scoped>\n",
       "    .dataframe tbody tr th:only-of-type {\n",
       "        vertical-align: middle;\n",
       "    }\n",
       "\n",
       "    .dataframe tbody tr th {\n",
       "        vertical-align: top;\n",
       "    }\n",
       "\n",
       "    .dataframe thead th {\n",
       "        text-align: right;\n",
       "    }\n",
       "</style>\n",
       "<table border=\"1\" class=\"dataframe\">\n",
       "  <thead>\n",
       "    <tr style=\"text-align: right;\">\n",
       "      <th></th>\n",
       "      <th>pos_33</th>\n",
       "      <th>pos_91</th>\n",
       "      <th>pos_94</th>\n",
       "      <th>pos_150</th>\n",
       "      <th>pos_153</th>\n",
       "      <th>pos_209</th>\n",
       "      <th>pos_271</th>\n",
       "      <th>pos_274</th>\n",
       "      <th>pos_386</th>\n",
       "      <th>pos_389</th>\n",
       "      <th>...</th>\n",
       "      <th>pos_945</th>\n",
       "      <th>pos_994</th>\n",
       "      <th>pos_997</th>\n",
       "      <th>pos_1000</th>\n",
       "      <th>pos_1062</th>\n",
       "      <th>pos_1124</th>\n",
       "      <th>pos_1127</th>\n",
       "      <th>pos_1189</th>\n",
       "      <th>pos_1192</th>\n",
       "      <th>pos_1248</th>\n",
       "    </tr>\n",
       "  </thead>\n",
       "  <tbody>\n",
       "    <tr>\n",
       "      <th>0</th>\n",
       "      <td>0.250528</td>\n",
       "      <td>0.270215</td>\n",
       "      <td>0.194372</td>\n",
       "      <td>0.242260</td>\n",
       "      <td>0.231816</td>\n",
       "      <td>0.232861</td>\n",
       "      <td>0.318045</td>\n",
       "      <td>0.229118</td>\n",
       "      <td>0.180309</td>\n",
       "      <td>0.239628</td>\n",
       "      <td>...</td>\n",
       "      <td>0.376385</td>\n",
       "      <td>0.222115</td>\n",
       "      <td>NaN</td>\n",
       "      <td>0.221941</td>\n",
       "      <td>NaN</td>\n",
       "      <td>NaN</td>\n",
       "      <td>NaN</td>\n",
       "      <td>NaN</td>\n",
       "      <td>NaN</td>\n",
       "      <td>NaN</td>\n",
       "    </tr>\n",
       "    <tr>\n",
       "      <th>1</th>\n",
       "      <td>0.244556</td>\n",
       "      <td>0.270573</td>\n",
       "      <td>0.194483</td>\n",
       "      <td>0.242351</td>\n",
       "      <td>0.232788</td>\n",
       "      <td>0.231840</td>\n",
       "      <td>0.313242</td>\n",
       "      <td>0.228213</td>\n",
       "      <td>0.179354</td>\n",
       "      <td>0.242799</td>\n",
       "      <td>...</td>\n",
       "      <td>0.532000</td>\n",
       "      <td>0.217823</td>\n",
       "      <td>NaN</td>\n",
       "      <td>0.218455</td>\n",
       "      <td>NaN</td>\n",
       "      <td>NaN</td>\n",
       "      <td>NaN</td>\n",
       "      <td>NaN</td>\n",
       "      <td>NaN</td>\n",
       "      <td>NaN</td>\n",
       "    </tr>\n",
       "    <tr>\n",
       "      <th>2</th>\n",
       "      <td>0.240128</td>\n",
       "      <td>0.267462</td>\n",
       "      <td>0.192646</td>\n",
       "      <td>0.240201</td>\n",
       "      <td>0.230847</td>\n",
       "      <td>0.228955</td>\n",
       "      <td>NaN</td>\n",
       "      <td>NaN</td>\n",
       "      <td>0.177625</td>\n",
       "      <td>0.238312</td>\n",
       "      <td>...</td>\n",
       "      <td>0.517097</td>\n",
       "      <td>0.215962</td>\n",
       "      <td>NaN</td>\n",
       "      <td>0.215372</td>\n",
       "      <td>NaN</td>\n",
       "      <td>NaN</td>\n",
       "      <td>NaN</td>\n",
       "      <td>NaN</td>\n",
       "      <td>NaN</td>\n",
       "      <td>NaN</td>\n",
       "    </tr>\n",
       "    <tr>\n",
       "      <th>3</th>\n",
       "      <td>0.238337</td>\n",
       "      <td>0.266007</td>\n",
       "      <td>0.191451</td>\n",
       "      <td>0.239229</td>\n",
       "      <td>0.229830</td>\n",
       "      <td>0.227538</td>\n",
       "      <td>NaN</td>\n",
       "      <td>NaN</td>\n",
       "      <td>0.176472</td>\n",
       "      <td>0.237788</td>\n",
       "      <td>...</td>\n",
       "      <td>0.205288</td>\n",
       "      <td>0.214785</td>\n",
       "      <td>NaN</td>\n",
       "      <td>0.213372</td>\n",
       "      <td>NaN</td>\n",
       "      <td>NaN</td>\n",
       "      <td>NaN</td>\n",
       "      <td>NaN</td>\n",
       "      <td>NaN</td>\n",
       "      <td>NaN</td>\n",
       "    </tr>\n",
       "    <tr>\n",
       "      <th>4</th>\n",
       "      <td>0.236278</td>\n",
       "      <td>0.264618</td>\n",
       "      <td>0.190465</td>\n",
       "      <td>0.238118</td>\n",
       "      <td>0.228979</td>\n",
       "      <td>0.225990</td>\n",
       "      <td>NaN</td>\n",
       "      <td>NaN</td>\n",
       "      <td>0.175160</td>\n",
       "      <td>0.236997</td>\n",
       "      <td>...</td>\n",
       "      <td>0.192451</td>\n",
       "      <td>0.212799</td>\n",
       "      <td>NaN</td>\n",
       "      <td>0.211497</td>\n",
       "      <td>NaN</td>\n",
       "      <td>NaN</td>\n",
       "      <td>NaN</td>\n",
       "      <td>NaN</td>\n",
       "      <td>NaN</td>\n",
       "      <td>NaN</td>\n",
       "    </tr>\n",
       "  </tbody>\n",
       "</table>\n",
       "<p>5 rows × 57 columns</p>\n",
       "</div>"
      ],
      "text/plain": [
       "     pos_33    pos_91    pos_94   pos_150   pos_153   pos_209   pos_271  \\\n",
       "0  0.250528  0.270215  0.194372  0.242260  0.231816  0.232861  0.318045   \n",
       "1  0.244556  0.270573  0.194483  0.242351  0.232788  0.231840  0.313242   \n",
       "2  0.240128  0.267462  0.192646  0.240201  0.230847  0.228955       NaN   \n",
       "3  0.238337  0.266007  0.191451  0.239229  0.229830  0.227538       NaN   \n",
       "4  0.236278  0.264618  0.190465  0.238118  0.228979  0.225990       NaN   \n",
       "\n",
       "    pos_274   pos_386   pos_389  ...   pos_945   pos_994  pos_997  pos_1000  \\\n",
       "0  0.229118  0.180309  0.239628  ...  0.376385  0.222115      NaN  0.221941   \n",
       "1  0.228213  0.179354  0.242799  ...  0.532000  0.217823      NaN  0.218455   \n",
       "2       NaN  0.177625  0.238312  ...  0.517097  0.215962      NaN  0.215372   \n",
       "3       NaN  0.176472  0.237788  ...  0.205288  0.214785      NaN  0.213372   \n",
       "4       NaN  0.175160  0.236997  ...  0.192451  0.212799      NaN  0.211497   \n",
       "\n",
       "   pos_1062  pos_1124  pos_1127  pos_1189  pos_1192  pos_1248  \n",
       "0       NaN       NaN       NaN       NaN       NaN       NaN  \n",
       "1       NaN       NaN       NaN       NaN       NaN       NaN  \n",
       "2       NaN       NaN       NaN       NaN       NaN       NaN  \n",
       "3       NaN       NaN       NaN       NaN       NaN       NaN  \n",
       "4       NaN       NaN       NaN       NaN       NaN       NaN  \n",
       "\n",
       "[5 rows x 57 columns]"
      ]
     },
     "execution_count": 3,
     "metadata": {},
     "output_type": "execute_result"
    }
   ],
   "source": [
    "data = pd.read_csv('in/data.csv')\n",
    "data.head()"
   ]
  },
  {
   "cell_type": "markdown",
   "metadata": {},
   "source": [
    "## Convert the input data\n",
    "\n",
    "The actual moving window tool operates just on ordered array data. The ordering can originate from a time series but it doesn't have to. \n",
    "For convenience, there is a conversion tool included, that can take a CSV of positions and a CSV of data ordered in columns.\n",
    "It will align the column names with the first, non-coordinate column in the positions. If there is no such column, the same order as in the columns is assumed, therefore it is recommended to align the data yourself."
   ]
  },
  {
   "cell_type": "code",
   "execution_count": 10,
   "metadata": {},
   "outputs": [],
   "source": [
    "converter = tools.get('convert-input')\n",
    "step = converter.run(result_path='./test', positions=positions, data=data)"
   ]
  },
  {
   "cell_type": "code",
   "execution_count": 12,
   "metadata": {},
   "outputs": [
    {
     "data": {
      "text/plain": [
       "['STDERR.log', 'STDOUT.log', 'data.dat', 'positions.dat']"
      ]
     },
     "execution_count": 12,
     "metadata": {},
     "output_type": "execute_result"
    }
   ],
   "source": [
    "step.outputs"
   ]
  },
  {
   "cell_type": "code",
   "execution_count": 14,
   "metadata": {},
   "outputs": [
    {
     "name": "stdout",
     "output_type": "stream",
     "text": [
      "(57, 1461)\n",
      "(57, 2)\n"
     ]
    }
   ],
   "source": [
    "# get out the aligned data and positions\n",
    "datarray = step.get('data.dat')\n",
    "posarray = step.get('positions.dat')\n",
    "\n",
    "print(datarray.shape)\n",
    "print(posarray.shape)"
   ]
  },
  {
   "cell_type": "markdown",
   "metadata": {},
   "source": [
    "As you can see, there are 57 locations and the shapes are matching now. This is the format the actual tool needs."
   ]
  },
  {
   "cell_type": "markdown",
   "metadata": {},
   "source": [
    "# Moving Window\n",
    "\n",
    "Run a 30-step moving window and calculate a variogram with some fixed parameters on each step. We can reuse some parameters from the Mälicke et al. (2020) publication"
   ]
  },
  {
   "cell_type": "code",
   "execution_count": 15,
   "metadata": {},
   "outputs": [],
   "source": [
    "window = tools.get('moving-window')\n",
    "\n",
    "# set the variogram\n",
    "variogram = dict(n_lags=5, model=\"exponential\", maxlag=\"median\", estimator=\"cressie\")\n",
    "\n",
    "# run\n",
    "step = window.run(result_path=\"./test\", positions=posarray, data=datarray, variogram=variogram, window_size=30)"
   ]
  },
  {
   "cell_type": "code",
   "execution_count": 19,
   "metadata": {},
   "outputs": [
    {
     "name": "stdout",
     "output_type": "stream",
     "text": [
      "['STDERR.log', 'STDOUT.log', 'data.dat', 'empirical_variograms.dat', 'empirical_variograms.json', 'positions.dat', 'variogram_parameters.dat']\n"
     ]
    }
   ],
   "source": [
    "print(step.outputs)"
   ]
  },
  {
   "cell_type": "markdown",
   "metadata": {},
   "source": [
    "The output contains two different representations: the empirical variograms as `.dat` with only the experimental value, or as `.json` which also includes the bins for each window.\n",
    "\n",
    "The `variogram_parameters.dat` contain a series of variogram parameters"
   ]
  },
  {
   "cell_type": "code",
   "execution_count": 22,
   "metadata": {},
   "outputs": [
    {
     "data": {
      "text/plain": [
       "<AxesSubplot:>"
      ]
     },
     "execution_count": 22,
     "metadata": {},
     "output_type": "execute_result"
    },
    {
     "data": {
      "image/png": "[encoded data removed]",
      "text/plain": [
       "<Figure size 640x480 with 2 Axes>"
      ]
     },
     "metadata": {},
     "output_type": "display_data"
    }
   ],
   "source": [
    "params = step.get('variogram_parameters.dat')\n",
    "\n",
    "df = pd.DataFrame({'range': params[:,0], 'sill': params[:,1]})\n",
    "df.plot(secondary_y='sill')"
   ]
  }
 ],
 "metadata": {
  "kernelspec": {
   "display_name": "Python 3.9.13 ('base')",
   "language": "python",
   "name": "python3"
  },
  "language_info": {
   "codemirror_mode": {
    "name": "ipython",
    "version": 3
   },
   "file_extension": ".py",
   "mimetype": "text/x-python",
   "name": "python",
   "nbconvert_exporter": "python",
   "pygments_lexer": "ipython3",
   "version": "3.9.13"
  },
  "orig_nbformat": 4,
  "vscode": {
   "interpreter": {
    "hash": "2c57ebfed52ffd848a0d2f36f1ea9c0a9060c9b67397fbb725d6aa92a9494b08"
   }
  }
 },
 "nbformat": 4,
 "nbformat_minor": 2
}
